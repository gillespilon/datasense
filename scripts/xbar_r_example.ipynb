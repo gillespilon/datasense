{
 "cells": [
  {
   "cell_type": "markdown",
   "metadata": {},
   "source": [
    "# Example of XbarR control charts"
   ]
  },
  {
   "cell_type": "markdown",
   "metadata": {},
   "source": [
    "Process behaviour charts are used to determine if the variation of a process is stable and predictable, that is, in a state of statistical control. In-control variation arises from chance or common causes. No changes or adjustments to the process are needed. The charts can be used to predict future performance. Out-of-control variation arises from special or assignable causes. These charts help identify the special causes in order minimize or eliminate their effect.\n",
    "\n",
    "For the Xbar chart, data are collected using rational sampling of size 2 or greater. The average values of each rational sample are plotted in time order. A central line (average of averages) is plotted. Control limits above and below the central line are plotted.\n",
    "\n",
    "$$\n",
    "    \\begin{align}\n",
    "        UCL_\\overline{X}, LCL_\\overline{X} & = \\overline{\\overline{X}} \\pm 3 \\times \\text{Sigma(}\\overline{X}\\text{)} \\\\\n",
    "                     & = \\overline{\\overline{X}} \\pm 3 \\times \\frac{\\text{Sigma(X) }}{\\sqrt{n}} \\\\\n",
    "                     & = \\overline{\\overline{X}} \\pm \\frac{3 \\text{ }\\overline{R}}{d_2 \\sqrt{n}}\n",
    "    \\end{align}\n",
    "$$\n",
    "\n",
    "The constant $d_2$ can be found in tables of control chart constants. It is a rescaling constant that changes an average range to a standard deviation. The value of $d_2$ changes as the subgroup size $n$ changes."
   ]
  },
  {
   "cell_type": "markdown",
   "metadata": {},
   "source": [
    "The range for each rational sample is calculated and plotted on the R chart. A central line (average range) is plotted. Control limits above and below the central line are plotted.\n",
    "    \n",
    "$$\n",
    "    \\begin{align}\n",
    "        UCL_R, LCL_R & = \\overline{R} \\pm 3 \\times \\text{Sigma(R)} \\\\\n",
    "                     & = \\overline{R} \\pm 3 \\times d_3 \\times \\text{Sigma(X)} \\\\\n",
    "                     & = \\overline{R} \\pm 3 \\times d_3 \\times \\frac{\\overline{R}}{d_2}\n",
    "    \\end{align}\n",
    "$$\n",
    "\n",
    "The constant $d_3$ can be found in tables of control chart constants. It is a rescaling constant that changes a a standard deviation of individual values to a standard deviation of range values. The value of $d_3$ is a function of subgroup size."
   ]
  },
  {
   "cell_type": "markdown",
   "metadata": {},
   "source": [
    "# Datasense library\n",
    "\n",
    "## First-time user\n",
    "\n",
    "Do this if this is your first-time installation.\n",
    "\n",
    "Install `git`. If using `Anaconda`:\n",
    "\n",
    "    conda install git\n",
    "\n",
    "Then install `datasense`:\n",
    "\n",
    "    pip install --user -e \"git+https://github.com/gillespilon/datasense#egg=datasense\"\n",
    "\n",
    "## Updating the library\n",
    "\n",
    "Do this if you are updating a previously-installed version of `datasense`.\n",
    "\n",
    "    pip install --user --upgrade -e \"git+https://github.com/gillespilon/datasense#egg=datasense\""
   ]
  },
  {
   "cell_type": "markdown",
   "metadata": {},
   "source": [
    "# Data\n",
    "\n",
    "In this notebook, a data set is created in the notebook. There is a function if you wish to read your data from a csv, xlsx, or ods file. The first column of the file is the sample ID. The remaining columns are the data. Each column should have a column label."
   ]
  },
  {
   "cell_type": "markdown",
   "metadata": {},
   "source": [
    "# Control chart rules\n",
    "\n",
    "**Rule one**. One point outside the three-sigma limits. Is used with the X, mR, Xbar, and R charts.\n",
    "\n",
    "**Rule two**. Two-out-of-three successive points on the same side of the central line\n",
    "and both are more than two sigma units away from the central line. Is used with the X and Xbar charts.\n",
    "\n",
    "**Rule three**. Four-out-of-five successive points on the same side of the central line and are more than one sigma units away from the central line. Is used with the X and Xbar charts.\n",
    "\n",
    "**Rule four**. Eight successive points all on the same side of the central line. Is used with the X and Xbar charts."
   ]
  },
  {
   "cell_type": "markdown",
   "metadata": {},
   "source": [
    "# References\n",
    "\n",
    "Wheeler, Donald J., and Rip Stauffer. 2017. “When Should We Use Extra Detection Rules? Using process behavior charts effectively.” *Quality Digest* (2017-10-02)."
   ]
  },
  {
   "cell_type": "markdown",
   "metadata": {},
   "source": [
    "# Code"
   ]
  },
  {
   "cell_type": "code",
   "execution_count": 1,
   "metadata": {},
   "outputs": [],
   "source": [
    "import pandas as pd\n",
    "import matplotlib.pyplot as plt"
   ]
  },
  {
   "cell_type": "code",
   "execution_count": 2,
   "metadata": {},
   "outputs": [],
   "source": [
    "from datasense import control_charts as cc"
   ]
  },
  {
   "cell_type": "code",
   "execution_count": 3,
   "metadata": {},
   "outputs": [],
   "source": [
    "data_file = 'xbar_r_example'"
   ]
  },
  {
   "cell_type": "code",
   "execution_count": 4,
   "metadata": {},
   "outputs": [],
   "source": [
    "xbar_chart_title = 'Average Control Chart'\n",
    "xbar_chart_ylabel = 'Measurement Xbar (units)'\n",
    "xbar_chart_xlabel = 'Sample'"
   ]
  },
  {
   "cell_type": "code",
   "execution_count": 5,
   "metadata": {},
   "outputs": [],
   "source": [
    "r_chart_title = 'Range Control Chart'\n",
    "r_chart_ylabel = 'Measurement R (units)'\n",
    "r_chart_xlabel = 'Sample'"
   ]
  },
  {
   "cell_type": "code",
   "execution_count": 6,
   "metadata": {},
   "outputs": [],
   "source": [
    "def main():\n",
    "    data = create_data()  # use the data in this notebook\n",
    "#     data = read_csv(f'{data_file}.csv')  # read a csv file\n",
    "#     data = read_xlsx(f'{data_file}.xlsx')  # read an xlsx file\n",
    "#     data = read_ods(f'{data_file}.ods')  # read an ods file\n",
    "    xbar_chart(data)\n",
    "    r_chart(data)\n",
    "#     help(cc.Xbar)\n",
    "#     help(cc.R)"
   ]
  },
  {
   "cell_type": "code",
   "execution_count": 7,
   "metadata": {},
   "outputs": [],
   "source": [
    "def create_data() -> pd.DataFrame:\n",
    "    '''\n",
    "    Create a dataframe.\n",
    "    This function is for demonstration purposes.\n",
    "    '''\n",
    "    df = {\n",
    "        'Sample':  [\n",
    "                    1, 2, 3, 4, 5,\n",
    "                    6, 7, 8, 9, 10,\n",
    "                    11, 12, 13, 14, 15,\n",
    "                    16, 17, 18, 19, 20,\n",
    "                    21, 22, 23, 24, 25\n",
    "                   ],\n",
    "        'X1':      [\n",
    "                    96, 68, 70, 68, 85,\n",
    "                    57, 86, 56, 55, 73,\n",
    "                    72, 70, 89, 59, 79,\n",
    "                    71, 76, 80, 68, 43,\n",
    "                    39, 83, 56, 95, 47\n",
    "                   ],\n",
    "        'X2':      [\n",
    "                    69, 51, 69, 69, 69,\n",
    "                    47, 69, 59, 81, 69,\n",
    "                    69, 48, 76, 59, 53,\n",
    "                    97, 51, 78, 66, 71,\n",
    "                    72, 74, 69, 57, 68\n",
    "                   ],\n",
    "        'X3':      [\n",
    "                    77, 71, 70, 64, 80,\n",
    "                    45, 59, 53, 49, 82,\n",
    "                    36, 78, 62, 93, 57,\n",
    "                    66, 62, 71, 66, 48,\n",
    "                    66, 56, 75, 88, 62\n",
    "                   ],\n",
    "        'X4':      [\n",
    "                    63, 55, 91, 71, 48,\n",
    "                    65, 65, 58, 69, 77,\n",
    "                    82, 69, 57, 79, 38,\n",
    "                    55, 84, 73, 103, 53,\n",
    "                    79, 87, 51, 66, 74\n",
    "                   ]\n",
    "    }\n",
    "    df = pd.DataFrame(df)\n",
    "    df = df.set_index('Sample')\n",
    "    return df"
   ]
  },
  {
   "cell_type": "code",
   "execution_count": 8,
   "metadata": {},
   "outputs": [],
   "source": [
    "def read_csv(filename: str) -> pd.DataFrame:\n",
    "    '''\n",
    "    Create a dataframe.\n",
    "    This function reads a csv file.\n",
    "    '''\n",
    "    df = pd.read_csv(filename, index_col='Sample')\n",
    "    return df"
   ]
  },
  {
   "cell_type": "code",
   "execution_count": 9,
   "metadata": {},
   "outputs": [],
   "source": [
    "def read_xlsx(filename: str) -> pd.DataFrame:\n",
    "    '''\n",
    "    Create a dataframe.\n",
    "    This function reads an xlsx file.\n",
    "    '''\n",
    "    df = pd.read_excel(filename, index_col='Sample')\n",
    "    return df"
   ]
  },
  {
   "cell_type": "code",
   "execution_count": 10,
   "metadata": {},
   "outputs": [],
   "source": [
    "def read_ods(filename: str) -> pd.DataFrame:\n",
    "    '''\n",
    "    Creates a dataframe.\n",
    "    This function reads an ods file.\n",
    "    '''\n",
    "    df = pd.read_excel(filename, index_col='Sample', engine='odf')\n",
    "    return df"
   ]
  },
  {
   "cell_type": "code",
   "execution_count": 11,
   "metadata": {},
   "outputs": [],
   "source": [
    "def xbar_chart(df: pd.DataFrame) -> None:\n",
    "    '''\n",
    "    Creates an Xbar control chart.\n",
    "    Identifies out-of-control points.\n",
    "    Adds cart and axis titles.\n",
    "    Saves the figure in svg format.\n",
    "    '''\n",
    "    fig = plt.figure(figsize=(8, 6))\n",
    "    xbar = cc.Xbar(df)\n",
    "    ax = xbar.ax(fig)\n",
    "    cc.draw_rule(xbar, ax, *cc.points_one(xbar), '1')\n",
    "    cc.draw_rule(xbar, ax, *cc.points_four(xbar), '4')\n",
    "    cc.draw_rule(xbar, ax, *cc.points_two(xbar), '2')\n",
    "    ax.set_title(xbar_chart_title)\n",
    "    ax.set_ylabel(xbar_chart_ylabel)\n",
    "    ax.set_xlabel(xbar_chart_xlabel)\n",
    "    ax.figure.savefig(f'{data_file}_xbar.svg')"
   ]
  },
  {
   "cell_type": "code",
   "execution_count": 12,
   "metadata": {},
   "outputs": [],
   "source": [
    "def r_chart(df: pd.DataFrame) -> None:\n",
    "    '''\n",
    "    Creates an R control chart.\n",
    "    Identifies out-of-control points.\n",
    "    Adds chart and axis titles.\n",
    "    Saves the figure in svg format.\n",
    "    '''\n",
    "    fig = plt.figure(figsize=(8, 6))\n",
    "    r = cc.R(df)\n",
    "    ax = r.ax(fig)\n",
    "    cc.draw_rule(r, ax, *cc.points_one(r), '1')\n",
    "    ax.set_title(r_chart_title)\n",
    "    ax.set_ylabel(r_chart_ylabel)\n",
    "    ax.set_xlabel(r_chart_xlabel)\n",
    "    ax.figure.savefig(f'{data_file}_r.svg')"
   ]
  },
  {
   "cell_type": "code",
   "execution_count": 13,
   "metadata": {
    "scrolled": false
   },
   "outputs": [
    {
     "data": {
      "image/png": "[encoded data removed]",
      "text/plain": [
       "<Figure size 576x432 with 1 Axes>"
      ]
     },
     "metadata": {
      "needs_background": "light"
     },
     "output_type": "display_data"
    },
    {
     "data": {
      "image/png": "[encoded data removed]",
      "text/plain": [
       "<Figure size 576x432 with 1 Axes>"
      ]
     },
     "metadata": {
      "needs_background": "light"
     },
     "output_type": "display_data"
    }
   ],
   "source": [
    "if __name__ == '__main__':\n",
    "    main()"
   ]
  }
 ],
 "metadata": {
  "kernelspec": {
   "display_name": "Python 3",
   "language": "python",
   "name": "python3"
  },
  "language_info": {
   "codemirror_mode": {
    "name": "ipython",
    "version": 3
   },
   "file_extension": ".py",
   "mimetype": "text/x-python",
   "name": "python",
   "nbconvert_exporter": "python",
   "pygments_lexer": "ipython3",
   "version": "3.8.2"
  },
  "varInspector": {
   "cols": {
    "lenName": 16,
    "lenType": 16,
    "lenVar": 40
   },
   "kernels_config": {
    "python": {
     "delete_cmd_postfix": "",
     "delete_cmd_prefix": "del ",
     "library": "var_list.py",
     "varRefreshCmd": "print(var_dic_list())"
    },
    "r": {
     "delete_cmd_postfix": ") ",
     "delete_cmd_prefix": "rm(",
     "library": "var_list.r",
     "varRefreshCmd": "cat(var_dic_list()) "
    }
   },
   "types_to_exclude": [
    "module",
    "function",
    "builtin_function_or_method",
    "instance",
    "_Feature"
   ],
   "window_display": false
  }
 },
 "nbformat": 4,
 "nbformat_minor": 2
}

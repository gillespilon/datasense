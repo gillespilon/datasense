{
 "cells": [
  {
   "cell_type": "markdown",
   "metadata": {},
   "source": [
    "# Example of XmR control charts"
   ]
  },
  {
   "cell_type": "markdown",
   "metadata": {},
   "source": [
    "Process behaviour charts are used to determine if the variation of a process is stable and predictable, that is, in a state of statistical control. In-control variation arises from chance or common causes; no changes or adjustments to the process are needed. The charts can be used to predict future performance. Out-of-control variation arises from special or assignable causes. These charts help identify the special causes in order minimize or eliminate their effect.\n",
    "\n",
    "For the X chart, data are collected using rational sampling of size 1. The individual values are plotted in time order. A central line (average) is plotted. Control limits above and below the central line are plotted.\n",
    "\n",
    "$$\n",
    "    \\begin{align}\n",
    "        UCL_X, LCL_X & = \\overline{X} \\pm 3 \\times \\text{Sigma(X)} \\\\\n",
    "                     & = \\overline{X} \\pm 3 \\times \\frac{\\overline{R}}{d_2}\n",
    "    \\end{align}\n",
    "$$\n",
    "\n",
    "The constant $d_2$ can be found in tables of control chart constants. It is a rescaling constant that changes an average range to a standard deviation. The value of $d_2$ changes as the subgroup size $n$ changes. It is common to use a moving range of subgroup size 2."
   ]
  },
  {
   "cell_type": "markdown",
   "metadata": {},
   "source": [
    " The moving range between successive pairs of points are calculated and plotted on the mR chart. A central line (average moving range) is plotted. Control limits above and below the central line are plotted.\n",
    "    \n",
    "$$\n",
    "    \\begin{align}\n",
    "        UCL_R, LCL_R & = \\overline{R} \\pm 3 \\times \\text{Sigma(R)} \\\\\n",
    "                     & = \\overline{R} \\pm 3 \\times d_3 \\times \\text{Sigma(X)} \\\\\n",
    "                     & = \\overline{R} \\pm 3 \\times d_3 \\times \\frac{\\overline{R}}{d_2}\n",
    "    \\end{align}\n",
    "$$\n",
    "\n",
    "The constant $d_3$ can be found in tables of control chart constants. It is a rescaling constant that changes a a standard deviation of individual values to a standard deviation of range values. The value of $d_3$ is a function of subgroup size."
   ]
  },
  {
   "cell_type": "markdown",
   "metadata": {},
   "source": [
    "# Datasense library\n",
    "\n",
    "## First-time user\n",
    "\n",
    "Do this if this is your first-time installation.\n",
    "\n",
    "Install `git`. If using `Anaconda`:\n",
    "\n",
    "    conda install git\n",
    "\n",
    "Then install datasense:\n",
    "\n",
    "    pip install --user -e \"git+https://github.com/gillespilon/datasense#egg=datasense\"\n",
    "\n",
    "## Updating the library\n",
    "\n",
    "Do this if you are updating a previously-installed version of `datasense`.\n",
    "\n",
    "    pip install --user --upgrade -e \"git+https://github.com/gillespilon/datasense#egg=datasense\""
   ]
  },
  {
   "cell_type": "markdown",
   "metadata": {},
   "source": [
    "# Data\n",
    "\n",
    "In this notebook, a data set is created in the notebook. There is a function if you wish to read your data from a csv, xlsx, or ods file. The file should have two columns, each with a column label. The first one is the sample ID and the second one is the data."
   ]
  },
  {
   "cell_type": "markdown",
   "metadata": {},
   "source": [
    "# Control chart rules\n",
    "\n",
    "**Rule one**. One point outside the three-sigma limits. Is used with the X, mR, Xbar, and R charts.\n",
    "\n",
    "**Rule two**. Two-out-of-three successive points on the same side of the central line\n",
    "and both are more than two sigma units away from the central line. Is used with the X and Xbar charts.\n",
    "\n",
    "**Rule three**. Four-out-of-five successive points on the same side of the central line and are more than one sigma units away from the central line. Is used with the X and Xbar charts.\n",
    "\n",
    "**Rule four**. Eight successive points all on the same side of the central line. Is used with the X and Xbar charts."
   ]
  },
  {
   "cell_type": "markdown",
   "metadata": {},
   "source": [
    "# References\n",
    "\n",
    "Wheeler, Donald J., and Rip Stauffer. 2017. “When Should We Use Extra Detection Rules? Using process behavior charts effectively.” *Quality Digest* (2017-10-02)."
   ]
  },
  {
   "cell_type": "markdown",
   "metadata": {},
   "source": [
    "# Code"
   ]
  },
  {
   "cell_type": "code",
   "execution_count": 1,
   "metadata": {},
   "outputs": [],
   "source": [
    "import pandas as pd\n",
    "import matplotlib.pyplot as plt\n",
    "import matplotlib.cm as cm"
   ]
  },
  {
   "cell_type": "code",
   "execution_count": 2,
   "metadata": {},
   "outputs": [],
   "source": [
    "from datasense import control_charts as cc"
   ]
  },
  {
   "cell_type": "code",
   "execution_count": 3,
   "metadata": {},
   "outputs": [],
   "source": [
    "data_file = 'x_mr_example'"
   ]
  },
  {
   "cell_type": "code",
   "execution_count": 4,
   "metadata": {},
   "outputs": [],
   "source": [
    "x_chart_title = 'Individuals Control Chart'\n",
    "x_chart_ylabel = 'Measurement X (units)'\n",
    "x_chart_xlabel = 'Sample'"
   ]
  },
  {
   "cell_type": "code",
   "execution_count": 5,
   "metadata": {},
   "outputs": [],
   "source": [
    "mr_chart_title = 'Moving Range Control Chart'\n",
    "mr_chart_ylabel = 'Measurement mR (units)'\n",
    "mr_chart_xlabel = 'Sample'"
   ]
  },
  {
   "cell_type": "code",
   "execution_count": 6,
   "metadata": {},
   "outputs": [],
   "source": [
    "def main():\n",
    "    data = create_data()  # use the data in this notebook\n",
    "#     data = read_csv(f'{data_file}.csv')  # read a csv file\n",
    "#     data = read_xlsx(f'{data_file}.xlsx')  # read an xlsx file\n",
    "#     data = read_ods(f'{data_file}.ods')  # read an ods file\n",
    "    x_chart(data)\n",
    "    mr_chart(data)\n",
    "#     help(cc.X)\n",
    "#     help(cc.mR)"
   ]
  },
  {
   "cell_type": "code",
   "execution_count": 7,
   "metadata": {},
   "outputs": [],
   "source": [
    "def create_data() -> pd.DataFrame:\n",
    "    '''\n",
    "    Creates a dataframe.\n",
    "    This function is for demonstration purposes.\n",
    "    '''\n",
    "    df = {\n",
    "        'Sample':  [1, 2, 3, 4, 5, 6, 7, 8, 9, 10, 11, 12, 13],\n",
    "        'X':       [25.0, 24.0, 38.5, 22.4, 23.1, 13.9, 13.9,\n",
    "                    10.0, 13.3, 10.0, 16.0, 16.0, 16.0]\n",
    "    }\n",
    "    df = pd.DataFrame(df)\n",
    "    df = df.set_index('Sample')\n",
    "    return df"
   ]
  },
  {
   "cell_type": "code",
   "execution_count": 8,
   "metadata": {},
   "outputs": [],
   "source": [
    "def read_csv(filename: str) -> pd.DataFrame:\n",
    "    '''\n",
    "    Creates a dataframe.\n",
    "    This function reads a csv file.\n",
    "    '''\n",
    "    df = pd.read_csv(filename, index_col='Sample')\n",
    "    return df"
   ]
  },
  {
   "cell_type": "code",
   "execution_count": 9,
   "metadata": {},
   "outputs": [],
   "source": [
    "def read_xlsx(filename: str) -> pd.DataFrame:\n",
    "    '''\n",
    "    Creates a dataframe.\n",
    "    This function reads an xlsx file.\n",
    "    '''\n",
    "    df = pd.read_excel(filename, index_col='Sample')\n",
    "    return df"
   ]
  },
  {
   "cell_type": "code",
   "execution_count": 10,
   "metadata": {},
   "outputs": [],
   "source": [
    "def read_ods(filename: str) -> pd.DataFrame:\n",
    "    '''\n",
    "    Creates a dataframe.\n",
    "    This function reads an ods file.\n",
    "    '''\n",
    "    df = pd.read_excel(filename, index_col='Sample', engine='odf')\n",
    "    return df"
   ]
  },
  {
   "cell_type": "code",
   "execution_count": 11,
   "metadata": {},
   "outputs": [],
   "source": [
    "def x_chart(df: pd.DataFrame) -> None:\n",
    "    '''\n",
    "    Creates an X control chart.\n",
    "    Identifies out-of-control points.\n",
    "    Adds chart and axis titles.\n",
    "    Saves the figure in svg format.\n",
    "    '''\n",
    "    fig = plt.figure(figsize=(8, 6))\n",
    "    x = cc.X(df)\n",
    "    ax = x.ax(fig)\n",
    "    ax.axhline(y=x.sigmas[+1], linestyle='--', dashes=(5, 5),\n",
    "               c=cm.Paired.colors[0], alpha=0.5)\n",
    "    ax.axhline(y=x.sigmas[-1], linestyle='--', dashes=(5, 5),\n",
    "               c=cm.Paired.colors[0], alpha=0.5)\n",
    "    ax.axhline(y=x.sigmas[+2], linestyle='--', dashes=(5, 5),\n",
    "               c=cm.Paired.colors[0], alpha=0.5)\n",
    "    ax.axhline(y=x.sigmas[-2], linestyle='--', dashes=(5, 5),\n",
    "               c=cm.Paired.colors[0], alpha=0.5)\n",
    "#     cc.draw_rule(x, ax, *cc.points_one(x), '1')\n",
    "#     cc.draw_rule(x, ax, *cc.points_four(x), '4')\n",
    "#     cc.draw_rule(x, ax, *cc.points_two(x), '2')\n",
    "#     cc.draw_rule(x, ax, *cc.points_three(x), '3')\n",
    "    cc.draw_rules(x, ax)\n",
    "    ax.set_title(x_chart_title, fontweight='bold')\n",
    "    ax.set_ylabel(x_chart_ylabel)\n",
    "    ax.set_xlabel(x_chart_xlabel)\n",
    "    ax.figure.savefig(f'{data_file}_x.svg')\n",
    "    print(\n",
    "        f'X Report\\n'\n",
    "        f'============\\n'\n",
    "        f'UCL        : {x.ucl}\\n'\n",
    "        f'Xbarbar    : {x.mean}\\n'\n",
    "        f'LCL        : {x.lcl}\\n'\n",
    "        f'Sigma(X)   : {x.sigma}\\n'\n",
    "    )"
   ]
  },
  {
   "cell_type": "code",
   "execution_count": 12,
   "metadata": {},
   "outputs": [],
   "source": [
    "def mr_chart(df: pd.DataFrame) -> None:\n",
    "    '''\n",
    "    Creates an mR control chart.\n",
    "    Identifies out-of-control points.\n",
    "    Adds chart and axis titles.\n",
    "    Saves the figure in svg format.\n",
    "    '''\n",
    "    fig = plt.figure(figsize=(8, 6))\n",
    "    mr = cc.mR(df)\n",
    "    ax = mr.ax(fig)\n",
    "#     ax.axhline(y=mr.sigmas[+1], linestyle='--', dashes=(5, 5),\n",
    "#                c=cm.Paired.colors[0], alpha=0.5)\n",
    "#     ax.axhline(y=mr.sigmas[-1], linestyle='--', dashes=(5, 5),\n",
    "#                c=cm.Paired.colors[0], alpha=0.5)\n",
    "    cc.draw_rule(mr, ax, *cc.points_one(mr), '1')\n",
    "    ax.set_title(mr_chart_title, fontweight='bold')\n",
    "    ax.set_ylabel(mr_chart_ylabel)\n",
    "    ax.set_xlabel(mr_chart_xlabel)\n",
    "    ax.figure.savefig(f'{data_file}_mr.svg')\n",
    "    print(\n",
    "        f'mR Report\\n'\n",
    "        f'============\\n'\n",
    "        f'UCL        : {mr.ucl}\\n'\n",
    "        f'Rbar       : {mr.mean}\\n'\n",
    "        f'LCL        : {mr.lcl}\\n'\n",
    "        f'Sigma(R)   : {mr.sigma}\\n'\n",
    "    )"
   ]
  },
  {
   "cell_type": "code",
   "execution_count": 13,
   "metadata": {
    "scrolled": false
   },
   "outputs": [
    {
     "name": "stdout",
     "output_type": "stream",
     "text": [
      "X Report\n",
      "============\n",
      "UCL        : 31.47768685215494\n",
      "Xbarbar    : 18.623076923076926\n",
      "LCL        : 5.7684669939989135\n",
      "Sigma(X)   : 4.284869976359338\n",
      "\n",
      "mR Report\n",
      "============\n",
      "UCL        : 15.79188829787234\n",
      "Rbar       : 4.833333333333333\n",
      "LCL        : 0\n",
      "Sigma(R)   : 3.652851654846336\n",
      "\n"
     ]
    },
    {
     "data": {
      "image/png": "[encoded data removed]",
      "text/plain": [
       "<Figure size 576x432 with 1 Axes>"
      ]
     },
     "metadata": {
      "needs_background": "light"
     },
     "output_type": "display_data"
    },
    {
     "data": {
      "image/png": "[encoded data removed]",
      "text/plain": [
       "<Figure size 576x432 with 1 Axes>"
      ]
     },
     "metadata": {
      "needs_background": "light"
     },
     "output_type": "display_data"
    }
   ],
   "source": [
    "if __name__ == '__main__':\n",
    "    main()"
   ]
  }
 ],
 "metadata": {
  "kernelspec": {
   "display_name": "Python 3",
   "language": "python",
   "name": "python3"
  },
  "language_info": {
   "codemirror_mode": {
    "name": "ipython",
    "version": 3
   },
   "file_extension": ".py",
   "mimetype": "text/x-python",
   "name": "python",
   "nbconvert_exporter": "python",
   "pygments_lexer": "ipython3",
   "version": "3.8.2"
  },
  "varInspector": {
   "cols": {
    "lenName": 16,
    "lenType": 16,
    "lenVar": 40
   },
   "kernels_config": {
    "python": {
     "delete_cmd_postfix": "",
     "delete_cmd_prefix": "del ",
     "library": "var_list.py",
     "varRefreshCmd": "print(var_dic_list())"
    },
    "r": {
     "delete_cmd_postfix": ") ",
     "delete_cmd_prefix": "rm(",
     "library": "var_list.r",
     "varRefreshCmd": "cat(var_dic_list()) "
    }
   },
   "types_to_exclude": [
    "module",
    "function",
    "builtin_function_or_method",
    "instance",
    "_Feature"
   ],
   "window_display": false
  }
 },
 "nbformat": 4,
 "nbformat_minor": 2
}

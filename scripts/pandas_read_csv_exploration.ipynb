{
 "cells": [
  {
   "cell_type": "markdown",
   "metadata": {},
   "source": [
    "# Pandas read_csv exploration"
   ]
  },
  {
   "cell_type": "code",
   "execution_count": 1,
   "metadata": {},
   "outputs": [],
   "source": [
    "from typing import Optional, Union"
   ]
  },
  {
   "cell_type": "code",
   "execution_count": 2,
   "metadata": {},
   "outputs": [],
   "source": [
    "import datasense as ds\n",
    "import pandas as pd"
   ]
  },
  {
   "cell_type": "code",
   "execution_count": 3,
   "metadata": {},
   "outputs": [],
   "source": [
    "def main():\n",
    "    pd.options.display.max_columns = 500\n",
    "    df = create_dataframe()\n",
    "    print(df.head())\n",
    "    save_dataframe(df=df)\n",
    "    data = read_file(\n",
    "        file_name='myfile.csv',\n",
    "        index_col='t'\n",
    "    )\n",
    "    print(data.head())\n",
    "    print(data.dtypes)"
   ]
  },
  {
   "cell_type": "code",
   "execution_count": 4,
   "metadata": {},
   "outputs": [],
   "source": [
    "def create_dataframe() -> pd.DataFrame:\n",
    "    df = pd.DataFrame(\n",
    "        {\n",
    "            'b': ds.random_data(distribution='bool'),\n",
    "            'c': ds.random_data(distribution='categories'),\n",
    "            'd': ds.timedelta_data(),\n",
    "            's': ds.random_data(distribution='strings'),\n",
    "            't': ds.datetime_data(),\n",
    "            'x': ds.random_data(distribution='norm'),\n",
    "            'y': ds.random_data(distribution='randint'),\n",
    "            'z': ds.random_data(distribution='uniform')\n",
    "        }\n",
    "    )\n",
    "    return df"
   ]
  },
  {
   "cell_type": "code",
   "execution_count": 5,
   "metadata": {},
   "outputs": [],
   "source": [
    "def save_dataframe(df) -> None:\n",
    "    df.to_csv(\n",
    "        'myfile.csv',\n",
    "        index=False\n",
    "    )"
   ]
  },
  {
   "cell_type": "code",
   "execution_count": 6,
   "metadata": {},
   "outputs": [],
   "source": [
    "def read_file(\n",
    "    file_name : str,\n",
    "    *,\n",
    "    index_col : Optional[Union[str, bool]] = None\n",
    ") -> pd.DataFrame:\n",
    "    df = pd.read_csv(\n",
    "        file_name,\n",
    "        index_col=index_col\n",
    "    )\n",
    "    \"\"\"\n",
    "    Create a DataFrame from an external file.\n",
    "    \n",
    "    Parameters\n",
    "    ----------\n",
    "    file_name : str\n",
    "        The name of the file to read.\n",
    "        \n",
    "    Returns\n",
    "    -------\n",
    "    df : pd.DataFrame\n",
    "        The dataframe created from the external file.\n",
    "    \n",
    "    Examples\n",
    "    --------\n",
    "    Example 1\n",
    "    >>> data = read_file(file_name='myfile.csv')\n",
    "    \"\"\"\n",
    "    return df"
   ]
  },
  {
   "cell_type": "code",
   "execution_count": 7,
   "metadata": {},
   "outputs": [
    {
     "name": "stdout",
     "output_type": "stream",
     "text": [
      "       b       c      d       s                   t         x   y         z\n",
      "0  False  medium 0 days  female 2020-10-07 12:15:55  0.922910  55  0.030097\n",
      "1  False   large 0 days    male 2020-10-08 12:15:55  0.940365  19  0.492294\n",
      "2   True   large 0 days    male 2020-10-09 12:15:55 -0.795164  27  0.948500\n",
      "3  False   small 0 days    male 2020-10-10 12:15:55 -0.402795  57  0.882655\n",
      "4  False   large 0 days    male 2020-10-11 12:15:55 -0.992234  38  0.122911\n",
      "                         b       c       d       s         x   y         z\n",
      "t                                                                         \n",
      "2020-10-07 12:15:55  False  medium  0 days  female  0.922910  55  0.030097\n",
      "2020-10-08 12:15:55  False   large  0 days    male  0.940365  19  0.492294\n",
      "2020-10-09 12:15:55   True   large  0 days    male -0.795164  27  0.948500\n",
      "2020-10-10 12:15:55  False   small  0 days    male -0.402795  57  0.882655\n",
      "2020-10-11 12:15:55  False   large  0 days    male -0.992234  38  0.122911\n",
      "b       bool\n",
      "c     object\n",
      "d     object\n",
      "s     object\n",
      "x    float64\n",
      "y      int64\n",
      "z    float64\n",
      "dtype: object\n"
     ]
    }
   ],
   "source": [
    "if __name__ == '__main__':\n",
    "    main()"
   ]
  }
 ],
 "metadata": {
  "kernelspec": {
   "display_name": "Python 3",
   "language": "python",
   "name": "python3"
  },
  "language_info": {
   "codemirror_mode": {
    "name": "ipython",
    "version": 3
   },
   "file_extension": ".py",
   "mimetype": "text/x-python",
   "name": "python",
   "nbconvert_exporter": "python",
   "pygments_lexer": "ipython3",
   "version": "3.8.6"
  }
 },
 "nbformat": 4,
 "nbformat_minor": 4
}

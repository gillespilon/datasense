{
 "cells": [
  {
   "cell_type": "markdown",
   "metadata": {},
   "source": [
    "# Pandas read_csv exploration"
   ]
  },
  {
   "cell_type": "code",
   "execution_count": 1,
   "metadata": {},
   "outputs": [],
   "source": [
    "import datasense as ds\n",
    "import pandas as pd"
   ]
  },
  {
   "cell_type": "code",
   "execution_count": 2,
   "metadata": {},
   "outputs": [],
   "source": [
    "def main():\n",
    "    pd.options.display.max_columns = 500\n",
    "    df = create_dataframe()\n",
    "    print(df.head())\n",
    "    save_dataframe(df=df)\n",
    "    data = read_file(file_name='myfile.csv')\n",
    "    print(data.head())"
   ]
  },
  {
   "cell_type": "code",
   "execution_count": 3,
   "metadata": {},
   "outputs": [],
   "source": [
    "def create_dataframe() -> pd.DataFrame:\n",
    "    df = pd.DataFrame(\n",
    "        {\n",
    "            'b': ds.random_data(distribution='bool'),\n",
    "            'c': ds.random_data(distribution='categories'),\n",
    "            'd': ds.timedelta_data(),\n",
    "            's': ds.random_data(distribution='strings'),\n",
    "            't': ds.datetime_data(),\n",
    "            'x': ds.random_data(distribution='norm'),\n",
    "            'y': ds.random_data(distribution='randint'),\n",
    "            'z': ds.random_data(distribution='uniform')\n",
    "        }\n",
    "    )\n",
    "    return df"
   ]
  },
  {
   "cell_type": "code",
   "execution_count": 4,
   "metadata": {},
   "outputs": [],
   "source": [
    "def save_dataframe(df) -> None:\n",
    "    df.to_csv(\n",
    "        'myfile.csv',\n",
    "        index=False\n",
    "    )"
   ]
  },
  {
   "cell_type": "code",
   "execution_count": 5,
   "metadata": {},
   "outputs": [],
   "source": [
    "def read_file(\n",
    "    file_name : str\n",
    ") -> pd.DataFrame:\n",
    "    df = pd.read_csv(\n",
    "        file_name\n",
    "    )\n",
    "    \"\"\"\n",
    "    Create a DataFrame from an external file.\n",
    "    \n",
    "    Parameters\n",
    "    ----------\n",
    "    file_name : str\n",
    "        The name of the file to read.\n",
    "        \n",
    "    Returns\n",
    "    -------\n",
    "    df : pd.DataFrame\n",
    "        The dataframe created from the external file.\n",
    "    \n",
    "    Examples\n",
    "    --------\n",
    "    Example 1\n",
    "    >>> data = read_file(file_name='myfile.csv')\n",
    "    \"\"\"\n",
    "    return df"
   ]
  },
  {
   "cell_type": "code",
   "execution_count": 6,
   "metadata": {},
   "outputs": [
    {
     "name": "stdout",
     "output_type": "stream",
     "text": [
      "       b      c      d       s                   t         x     y         z\n",
      "0   True  small 0 days  female 2020-10-01 14:49:54 -0.217215  19.0  0.176956\n",
      "1  False  large 0 days  female 2020-10-02 14:49:54  0.047617  17.0  0.151726\n",
      "2   True  large 0 days    male 2020-10-03 14:49:54  0.704518  56.0  0.708205\n",
      "3   True  large 0 days  female 2020-10-04 14:49:54  0.718616  41.0  0.373106\n",
      "4  False  small 0 days    male 2020-10-05 14:49:54 -0.653172  53.0  0.564183\n",
      "       b      c       d       s                    t         x     y         z\n",
      "0   True  small  0 days  female  2020-10-01 14:49:54 -0.217215  19.0  0.176956\n",
      "1  False  large  0 days  female  2020-10-02 14:49:54  0.047617  17.0  0.151726\n",
      "2   True  large  0 days    male  2020-10-03 14:49:54  0.704518  56.0  0.708205\n",
      "3   True  large  0 days  female  2020-10-04 14:49:54  0.718616  41.0  0.373106\n",
      "4  False  small  0 days    male  2020-10-05 14:49:54 -0.653172  53.0  0.564183\n"
     ]
    }
   ],
   "source": [
    "if __name__ == '__main__':\n",
    "    main()"
   ]
  }
 ],
 "metadata": {
  "kernelspec": {
   "display_name": "Python 3",
   "language": "python",
   "name": "python3"
  },
  "language_info": {
   "codemirror_mode": {
    "name": "ipython",
    "version": 3
   },
   "file_extension": ".py",
   "mimetype": "text/x-python",
   "name": "python",
   "nbconvert_exporter": "python",
   "pygments_lexer": "ipython3",
   "version": "3.8.5"
  }
 },
 "nbformat": 4,
 "nbformat_minor": 4
}

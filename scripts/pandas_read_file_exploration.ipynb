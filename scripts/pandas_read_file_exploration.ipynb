{
 "cells": [
  {
   "cell_type": "markdown",
   "metadata": {},
   "source": [
    "# Pandas read_csv exploration"
   ]
  },
  {
   "cell_type": "code",
   "execution_count": 1,
   "metadata": {},
   "outputs": [],
   "source": [
    "from typing import Optional, Union"
   ]
  },
  {
   "cell_type": "code",
   "execution_count": 2,
   "metadata": {},
   "outputs": [],
   "source": [
    "import datasense as ds\n",
    "import pandas as pd"
   ]
  },
  {
   "cell_type": "code",
   "execution_count": 3,
   "metadata": {},
   "outputs": [],
   "source": [
    "def main():\n",
    "    pd.options.display.max_columns = 500\n",
    "    df = create_dataframe()\n",
    "    print(df.head())\n",
    "    print()\n",
    "    save_dataframe(df=df)\n",
    "    data = ds.read_file(\n",
    "        file_name='piecewise_natural_cubic_spline.csv',\n",
    "        parse_dates=\n",
    "    )\n",
    "    print(data.head())\n",
    "    print(data.dtypes)"
   ]
  },
  {
   "cell_type": "code",
   "execution_count": 4,
   "metadata": {},
   "outputs": [],
   "source": [
    "def create_dataframe() -> pd.DataFrame:\n",
    "    df = pd.DataFrame(\n",
    "        {\n",
    "            'b': ds.random_data(distribution='bool'),\n",
    "            'c': ds.random_data(distribution='categories'),\n",
    "            'd': ds.timedelta_data(),\n",
    "            's': ds.random_data(distribution='strings'),\n",
    "            't': ds.datetime_data(),\n",
    "            'x': ds.random_data(distribution='norm'),\n",
    "            'y': ds.random_data(distribution='randint'),\n",
    "            'z': ds.random_data(distribution='uniform')\n",
    "        }\n",
    "    )\n",
    "    return df"
   ]
  },
  {
   "cell_type": "code",
   "execution_count": 5,
   "metadata": {},
   "outputs": [],
   "source": [
    "def save_dataframe(df) -> None:\n",
    "    df.to_csv(\n",
    "        'myfile.csv',\n",
    "        index=False\n",
    "    )"
   ]
  },
  {
   "cell_type": "code",
   "execution_count": 6,
   "metadata": {},
   "outputs": [],
   "source": [
    "def read_file(\n",
    "    file_name : str,\n",
    "    *,\n",
    "    index_col : Optional[Union[str, bool]] = None\n",
    ") -> pd.DataFrame:\n",
    "    df = pd.read_csv(\n",
    "        file_name,\n",
    "        index_col=index_col\n",
    "    )\n",
    "    \"\"\"\n",
    "    Create a DataFrame from an external file.\n",
    "    \n",
    "    Parameters\n",
    "    ----------\n",
    "    file_name : str\n",
    "        The name of the file to read.\n",
    "        \n",
    "    Returns\n",
    "    -------\n",
    "    df : pd.DataFrame\n",
    "        The dataframe created from the external file.\n",
    "    \n",
    "    Examples\n",
    "    --------\n",
    "    Example 1\n",
    "    >>> data = read_file(file_name='myfile.csv')\n",
    "    \"\"\"\n",
    "    return df"
   ]
  },
  {
   "cell_type": "code",
   "execution_count": 7,
   "metadata": {},
   "outputs": [
    {
     "name": "stdout",
     "output_type": "stream",
     "text": [
      "       b       c      d       s                   t         x   y         z\n",
      "0   True  medium 0 days  female 2020-10-14 10:44:23 -0.468244  59  0.301784\n",
      "1   True   small 0 days  female 2020-10-15 10:44:23 -0.581982  65  0.015961\n",
      "2   True   large 0 days  female 2020-10-16 10:44:23 -1.258567  40  0.896499\n",
      "3  False   small 0 days  female 2020-10-17 10:44:23 -0.810294  21  0.173743\n",
      "4   True   large 0 days  female 2020-10-18 10:44:23  0.172082  51  0.791268\n",
      "\n",
      "               FEATURE  TARGET\n",
      "0  2019-01-07 08:13:00   620.0\n",
      "1  2019-01-07 08:31:00   625.0\n",
      "2  2019-01-07 09:00:00   528.0\n",
      "3  2019-01-07 09:18:00   512.0\n",
      "4  2019-01-07 09:46:00   524.0\n",
      "FEATURE     object\n",
      "TARGET     float64\n",
      "dtype: object\n"
     ]
    }
   ],
   "source": [
    "if __name__ == '__main__':\n",
    "    main()"
   ]
  }
 ],
 "metadata": {
  "kernelspec": {
   "display_name": "Python 3",
   "language": "python",
   "name": "python3"
  },
  "language_info": {
   "codemirror_mode": {
    "name": "ipython",
    "version": 3
   },
   "file_extension": ".py",
   "mimetype": "text/x-python",
   "name": "python",
   "nbconvert_exporter": "python",
   "pygments_lexer": "ipython3",
   "version": "3.8.6"
  }
 },
 "nbformat": 4,
 "nbformat_minor": 4
}

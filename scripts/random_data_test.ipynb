{
 "cells": [
  {
   "cell_type": "code",
   "execution_count": 1,
   "metadata": {},
   "outputs": [],
   "source": [
    "import datasense as ds\n",
    "import pandas as pd"
   ]
  },
  {
   "cell_type": "code",
   "execution_count": 2,
   "metadata": {},
   "outputs": [],
   "source": [
    "df = pd.DataFrame(\n",
    "    {\n",
    "        'x': ds.random_data(distribution='norm'),\n",
    "        'y': ds.random_data(distribution='randint'),\n",
    "        'z': ds.random_data(distribution='uniform'),\n",
    "        't': ds.datetime_data()\n",
    "    }\n",
    ")"
   ]
  },
  {
   "cell_type": "code",
   "execution_count": 3,
   "metadata": {},
   "outputs": [
    {
     "data": {
      "text/plain": [
       "(42, 4)"
      ]
     },
     "execution_count": 3,
     "metadata": {},
     "output_type": "execute_result"
    }
   ],
   "source": [
    "df.shape"
   ]
  },
  {
   "cell_type": "code",
   "execution_count": 4,
   "metadata": {},
   "outputs": [
    {
     "data": {
      "text/html": [
       "<div>\n",
       "<style scoped>\n",
       "    .dataframe tbody tr th:only-of-type {\n",
       "        vertical-align: middle;\n",
       "    }\n",
       "\n",
       "    .dataframe tbody tr th {\n",
       "        vertical-align: top;\n",
       "    }\n",
       "\n",
       "    .dataframe thead th {\n",
       "        text-align: right;\n",
       "    }\n",
       "</style>\n",
       "<table border=\"1\" class=\"dataframe\">\n",
       "  <thead>\n",
       "    <tr style=\"text-align: right;\">\n",
       "      <th></th>\n",
       "      <th>x</th>\n",
       "      <th>y</th>\n",
       "      <th>z</th>\n",
       "      <th>t</th>\n",
       "    </tr>\n",
       "  </thead>\n",
       "  <tbody>\n",
       "    <tr>\n",
       "      <th>0</th>\n",
       "      <td>-0.098097</td>\n",
       "      <td>46</td>\n",
       "      <td>0.152227</td>\n",
       "      <td>2020-09-26 12:37:20</td>\n",
       "    </tr>\n",
       "    <tr>\n",
       "      <th>1</th>\n",
       "      <td>0.825161</td>\n",
       "      <td>51</td>\n",
       "      <td>0.439836</td>\n",
       "      <td>2020-09-27 12:37:20</td>\n",
       "    </tr>\n",
       "    <tr>\n",
       "      <th>2</th>\n",
       "      <td>-0.405795</td>\n",
       "      <td>55</td>\n",
       "      <td>0.079451</td>\n",
       "      <td>2020-09-28 12:37:20</td>\n",
       "    </tr>\n",
       "    <tr>\n",
       "      <th>3</th>\n",
       "      <td>1.159694</td>\n",
       "      <td>31</td>\n",
       "      <td>0.715497</td>\n",
       "      <td>2020-09-29 12:37:20</td>\n",
       "    </tr>\n",
       "    <tr>\n",
       "      <th>4</th>\n",
       "      <td>0.150529</td>\n",
       "      <td>34</td>\n",
       "      <td>0.820659</td>\n",
       "      <td>2020-09-30 12:37:20</td>\n",
       "    </tr>\n",
       "  </tbody>\n",
       "</table>\n",
       "</div>"
      ],
      "text/plain": [
       "          x   y         z                   t\n",
       "0 -0.098097  46  0.152227 2020-09-26 12:37:20\n",
       "1  0.825161  51  0.439836 2020-09-27 12:37:20\n",
       "2 -0.405795  55  0.079451 2020-09-28 12:37:20\n",
       "3  1.159694  31  0.715497 2020-09-29 12:37:20\n",
       "4  0.150529  34  0.820659 2020-09-30 12:37:20"
      ]
     },
     "execution_count": 4,
     "metadata": {},
     "output_type": "execute_result"
    }
   ],
   "source": [
    "df.head()"
   ]
  },
  {
   "cell_type": "code",
   "execution_count": 5,
   "metadata": {},
   "outputs": [
    {
     "data": {
      "text/plain": [
       "x           float64\n",
       "y             int64\n",
       "z           float64\n",
       "t    datetime64[ns]\n",
       "dtype: object"
      ]
     },
     "execution_count": 5,
     "metadata": {},
     "output_type": "execute_result"
    }
   ],
   "source": [
    "df.dtypes"
   ]
  },
  {
   "cell_type": "code",
   "execution_count": 6,
   "metadata": {},
   "outputs": [
    {
     "data": {
      "text/plain": [
       "Index(['x', 'y', 'z', 't'], dtype='object')"
      ]
     },
     "execution_count": 6,
     "metadata": {},
     "output_type": "execute_result"
    }
   ],
   "source": [
    "df.columns"
   ]
  },
  {
   "cell_type": "code",
   "execution_count": 7,
   "metadata": {},
   "outputs": [
    {
     "name": "stdout",
     "output_type": "stream",
     "text": [
      "Help on function find_int_columns in module datasense.munging:\n",
      "\n",
      "find_int_columns(df: pandas.core.frame.DataFrame) -> List[str]\n",
      "    Find all integer columns in a dataframe.\n",
      "    \n",
      "    Parameters\n",
      "    ----------\n",
      "    df : pd.DataFrame\n",
      "        The input dataframe.\n",
      "    \n",
      "    Returns\n",
      "    -------\n",
      "    columns_int : List[str]\n",
      "        A list of integer column names.\n",
      "    \n",
      "    Example\n",
      "    -------\n",
      "    >>> import datasense as ds\n",
      "    >>> import pandas as pd\n",
      "    >>> df = pd.DataFrame(\n",
      "    >>>     {\n",
      "    >>>         'x': ds.random_data(distribution='norm'),\n",
      "    >>>         'y': ds.random_data(distribution='randint'),\n",
      "    >>>         'z': ds.random_data(distribution='uniform'),\n",
      "    >>>         't': ds.datetime_data()\n",
      "    >>>     }\n",
      "    >>> )\n",
      "    >>> columns_int = ds.find_int_columns(df=df)\n",
      "    >>> print(columns_int)\n",
      "    ['y']\n",
      "\n",
      "None\n"
     ]
    }
   ],
   "source": [
    "print(help(ds.find_int_columns))"
   ]
  },
  {
   "cell_type": "code",
   "execution_count": 8,
   "metadata": {},
   "outputs": [
    {
     "name": "stdout",
     "output_type": "stream",
     "text": [
      "['y']\n"
     ]
    }
   ],
   "source": [
    "columns_int = ds.find_int_columns(df=df)\n",
    "print(columns_int)"
   ]
  },
  {
   "cell_type": "code",
   "execution_count": 9,
   "metadata": {},
   "outputs": [
    {
     "name": "stdout",
     "output_type": "stream",
     "text": [
      "Help on function find_int_float_columns in module datasense.munging:\n",
      "\n",
      "find_int_float_columns(df: pandas.core.frame.DataFrame) -> List[str]\n",
      "    Find all integer and float columns in a dataframe.\n",
      "    \n",
      "    Parameters\n",
      "    ----------\n",
      "    df : pd.DataFrame\n",
      "        The input dataframe.\n",
      "    \n",
      "    Returns\n",
      "    -------\n",
      "    columns_int_float : List[str]\n",
      "        A list of integer and float column names.\n",
      "    \n",
      "    Example\n",
      "    -------\n",
      "    >>> import datasense as ds\n",
      "    >>> import pandas as pd\n",
      "    >>> df = pd.DataFrame(\n",
      "    >>>     {\n",
      "    >>>         'x': ds.random_data(distribution='norm'),\n",
      "    >>>         'y': ds.random_data(distribution='randint'),\n",
      "    >>>         'z': ds.random_data(distribution='uniform'),\n",
      "    >>>         't': ds.datetime_data()\n",
      "    >>>     }\n",
      "    >>> )\n",
      "    >>> columns_int_float = ds.find_int_float_columns(df=df)\n",
      "    >>> print(columns_int_float)\n",
      "    ['x', 'y', 'z']\n",
      "\n",
      "None\n"
     ]
    }
   ],
   "source": [
    "print(help(ds.find_int_float_columns))"
   ]
  },
  {
   "cell_type": "code",
   "execution_count": 10,
   "metadata": {},
   "outputs": [
    {
     "name": "stdout",
     "output_type": "stream",
     "text": [
      "['x', 'y', 'z']\n"
     ]
    }
   ],
   "source": [
    "columns_int_float = ds.find_int_float_columns(df=df)\n",
    "print(columns_int_float)"
   ]
  },
  {
   "cell_type": "code",
   "execution_count": 11,
   "metadata": {},
   "outputs": [],
   "source": [
    "columns_int = list(df.select_dtypes(include=['int64']).columns)"
   ]
  },
  {
   "cell_type": "code",
   "execution_count": 12,
   "metadata": {},
   "outputs": [],
   "source": [
    "columns_int_float = list(df.select_dtypes(include=['int64', 'float64']).columns)"
   ]
  },
  {
   "cell_type": "code",
   "execution_count": 13,
   "metadata": {},
   "outputs": [
    {
     "name": "stdout",
     "output_type": "stream",
     "text": [
      "['y']\n"
     ]
    }
   ],
   "source": [
    "print(columns_int)"
   ]
  },
  {
   "cell_type": "code",
   "execution_count": 14,
   "metadata": {},
   "outputs": [
    {
     "name": "stdout",
     "output_type": "stream",
     "text": [
      "['x', 'y', 'z']\n"
     ]
    }
   ],
   "source": [
    "print(columns_int_float)"
   ]
  },
  {
   "cell_type": "code",
   "execution_count": 15,
   "metadata": {},
   "outputs": [
    {
     "name": "stdout",
     "output_type": "stream",
     "text": [
      "--------------------------\n",
      "DataFrame information for: test\n",
      "\n",
      "Rows total        : 42\n",
      "Rows empty        : 0 (deleted)\n",
      "Rows not empty    : 42\n",
      "Columns total     : 4\n",
      "Columns empty     : 0 (deleted)\n",
      "Columns not empty : 4\n",
      "\n",
      "Information about non-empty columns\n",
      " Column   Data type        Empty cell count   Empty cell percentage \n",
      "-------- ---------------- ------------------ -----------------------\n",
      " x        float64                         0                     0.0 \n",
      " y        int64                           0                     0.0 \n",
      " z        float64                         0                     0.0 \n",
      " t        datetime64[ns]                  0                     0.0 \n",
      "\n",
      "List of 4 non-empty columns:\n",
      "t, x, y, z\n",
      "\n",
      "List of 2 float columns:\n",
      "x, z\n",
      "\n",
      "List of 1 integer columns:\n",
      "y\n",
      "\n",
      "List of 1 datetime columns:\n",
      "t\n",
      "\n",
      "List of 0 string columns:\n",
      "\n",
      "List of 0 empty columns:\n",
      "\n"
     ]
    }
   ],
   "source": [
    "df = ds.dataframe_info(\n",
    "    df=df,\n",
    "    filein='test'\n",
    ")"
   ]
  }
 ],
 "metadata": {
  "kernelspec": {
   "display_name": "Python 3",
   "language": "python",
   "name": "python3"
  },
  "language_info": {
   "codemirror_mode": {
    "name": "ipython",
    "version": 3
   },
   "file_extension": ".py",
   "mimetype": "text/x-python",
   "name": "python",
   "nbconvert_exporter": "python",
   "pygments_lexer": "ipython3",
   "version": "3.8.5"
  }
 },
 "nbformat": 4,
 "nbformat_minor": 4
}

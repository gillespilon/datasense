{
 "cells": [
  {
   "cell_type": "code",
   "execution_count": 1,
   "metadata": {},
   "outputs": [],
   "source": [
    "import datasense as ds\n",
    "import pandas as pd"
   ]
  },
  {
   "cell_type": "code",
   "execution_count": 2,
   "metadata": {},
   "outputs": [],
   "source": [
    "output_url = 'random_data_test.html'\n",
    "header_title = 'random_data_test'\n",
    "header_id = 'random-data-test'"
   ]
  },
  {
   "cell_type": "code",
   "execution_count": 3,
   "metadata": {},
   "outputs": [],
   "source": [
    "def main():\n",
    "    original_stdout = ds.html_begin(\n",
    "        outputurl=output_url,\n",
    "        headertitle=header_title,\n",
    "        headerid=header_id\n",
    "    )\n",
    "    print('<pre>')\n",
    "    df = pd.DataFrame(\n",
    "        {\n",
    "            'b': ds.random_data(\n",
    "                distribution='randint',\n",
    "                low=0,\n",
    "                high=2\n",
    "            ).astype(dtype='bool'),\n",
    "            'x': ds.random_data(distribution='norm'),\n",
    "            'y': ds.random_data(distribution='randint'),\n",
    "            'z': ds.random_data(distribution='uniform'),\n",
    "            't': ds.datetime_data()\n",
    "        }\n",
    "    )\n",
    "    print('df.shape')\n",
    "    print(df.shape)\n",
    "    print()\n",
    "    print('df.head()')\n",
    "    print(df.head())\n",
    "    print()\n",
    "    print('df.dtypes')\n",
    "    print(df.dtypes)\n",
    "    print()\n",
    "    print('df.columns')\n",
    "    print(df.columns)\n",
    "    print()\n",
    "    print(help(ds.find_bool_columns))\n",
    "    print()\n",
    "    columns_bool = ds.find_bool_columns(df=df)\n",
    "    print('bool columns')\n",
    "    print(columns_bool)\n",
    "    print()\n",
    "    print(help(ds.find_float_columns))\n",
    "    print()\n",
    "    columns_float = ds.find_float_columns(df=df)\n",
    "    print('float columns')\n",
    "    print(columns_float)\n",
    "    print()\n",
    "    print(help(ds.find_int_columns))\n",
    "    print()\n",
    "    columns_int = ds.find_int_columns(df=df)\n",
    "    print('integer columns')\n",
    "    print(columns_int)\n",
    "    print()\n",
    "    print(help(ds.find_int_float_columns))\n",
    "    print()\n",
    "    columns_int_float = ds.find_int_float_columns(df=df)\n",
    "    print('integer, float columns')\n",
    "    print(columns_int_float)\n",
    "    print()\n",
    "    df = ds.dataframe_info(\n",
    "        df=df,\n",
    "        filein='test'\n",
    "    )\n",
    "    print('</pre>')\n",
    "    ds.html_end(\n",
    "        originalstdout=original_stdout,\n",
    "        outputurl=output_url\n",
    "    )"
   ]
  },
  {
   "cell_type": "code",
   "execution_count": 4,
   "metadata": {
    "scrolled": false
   },
   "outputs": [],
   "source": [
    "if __name__ == '__main__':\n",
    "    main()"
   ]
  }
 ],
 "metadata": {
  "kernelspec": {
   "display_name": "Python 3",
   "language": "python",
   "name": "python3"
  },
  "language_info": {
   "codemirror_mode": {
    "name": "ipython",
    "version": 3
   },
   "file_extension": ".py",
   "mimetype": "text/x-python",
   "name": "python",
   "nbconvert_exporter": "python",
   "pygments_lexer": "ipython3",
   "version": "3.8.5"
  }
 },
 "nbformat": 4,
 "nbformat_minor": 4
}

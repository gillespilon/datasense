{
 "cells": [
  {
   "cell_type": "markdown",
   "metadata": {},
   "source": [
    "# Piecewise natural cubic spline"
   ]
  },
  {
   "cell_type": "markdown",
   "metadata": {},
   "source": [
    "A piecewise natural cubic spline (cubic curves in the interior segments, linear in the exterior segments) is used to interpolate points to fit the data while smoothing out the noise. A large number of data are fitted with low-degree polynomials, to eliminate excessive oscillations and non-convergence.\n",
    "\n",
    "The graphs can be viewed with the view_spline_graphs.html file created."
   ]
  },
  {
   "cell_type": "code",
   "execution_count": 1,
   "metadata": {},
   "outputs": [],
   "source": [
    "from multiprocessing import Pool\n",
    "from typing import List, Tuple\n",
    "from shutil import rmtree\n",
    "from pathlib import Path\n",
    "import webbrowser\n",
    "import itertools\n",
    "import time\n",
    "import sys"
   ]
  },
  {
   "cell_type": "code",
   "execution_count": 2,
   "metadata": {},
   "outputs": [],
   "source": [
    "import matplotlib.pyplot as plt\n",
    "import matplotlib.axes as axes\n",
    "import matplotlib.cm as cm\n",
    "import datasense as ds\n",
    "import pandas as pd"
   ]
  },
  {
   "cell_type": "code",
   "execution_count": 3,
   "metadata": {},
   "outputs": [],
   "source": [
    "def main():\n",
    "    start_time = time.time()\n",
    "    global figure_width_height, c, axis_title, x_axis_label, y_axis_label,\\\n",
    "        graphics_directory\n",
    "    file_names, targets, features, num_knots, graphics_directory, \\\n",
    "        figure_width_height, x_axis_label, y_axis_label, axis_title, c, \\\n",
    "        date_time_parser, output_url, header_title, header_id = parameters()\n",
    "    set_up_graphics_directory(graphics_directory)\n",
    "    original_stdout = sys.stdout\n",
    "    sys.stdout = open('view_spline_graphs.html', 'w')\n",
    "    ds.html_header(header_title, header_id)\n",
    "    for file, target, feature in itertools.product(\n",
    "        file_names, targets, features\n",
    "    ):\n",
    "        data = ds.read_file(\n",
    "            filename=file,\n",
    "            abscissa=feature\n",
    "        )\n",
    "        data[target] = data[target].fillna(data[target].mean())\n",
    "        dates = True\n",
    "        X = pd.to_numeric(data[feature])\n",
    "        y = data[target]\n",
    "        t = ((X, y, file, target, feature, knot, dates)\n",
    "             for knot in num_knots)\n",
    "        with Pool() as pool:\n",
    "            for _ in pool.imap_unordered(plot_scatter_line, t):\n",
    "                pass\n",
    "        for knot in num_knots:\n",
    "            print(\n",
    "                f'<p><img src=\"{graphics_directory}/'\n",
    "                f'spline_{file.strip(\".csv\")}_'\n",
    "                f'{target}_{feature}_{knot}.svg\"/></p>'\n",
    "            )\n",
    "    page_break()\n",
    "    stop_time = time.time()\n",
    "    elapsed_time = stop_time - start_time\n",
    "    summary(\n",
    "        elapsedtime=elapsed_time,\n",
    "        filenames=file_names,\n",
    "        targets=targets,\n",
    "        features=features,\n",
    "        numknots=num_knots\n",
    "    )\n",
    "    ds.html_footer()\n",
    "    sys.stdout.close()\n",
    "    sys.stdout = original_stdout\n",
    "    webbrowser.open_new_tab(output_url)"
   ]
  },
  {
   "cell_type": "code",
   "execution_count": 4,
   "metadata": {},
   "outputs": [],
   "source": [
    "def parameters(\n",
    ") -> (\n",
    "    List[str],\n",
    "    List[str],\n",
    "    List[str],\n",
    "    List[int],\n",
    "    str,\n",
    "    Tuple[int, int],\n",
    "    str,\n",
    "    str,\n",
    "    str,\n",
    "    Tuple[Tuple[float]],\n",
    "    str,\n",
    "    str\n",
    "):\n",
    "    '''\n",
    "    Set parameters.\n",
    "    '''\n",
    "\n",
    "    parameters = ds.read_file(\n",
    "        filename='piecewise_natural_cubic_spline_parameters.csv'\n",
    "    )\n",
    "    filenames = [x for x in parameters['File names'] if str(x) != 'nan']\n",
    "    targets = [x for x in parameters['Targets'] if str(x) != 'nan']\n",
    "    features = [x for x in parameters['Features'] if str(x) != 'nan']\n",
    "    numknots = [int(x) for x in parameters['Number of knots'] if str(x) != 'nan']\n",
    "    datetimeparser = parameters['Other parameter values'][0]\n",
    "    graphicsdirectory = parameters['Other parameter values'][1]\n",
    "    figurewidthheight = eval(parameters['Other parameter values'][2])\n",
    "    xaxislabel = parameters['Other parameter values'][3]\n",
    "    yaxislabel = parameters['Other parameter values'][4]\n",
    "    axistitle = parameters['Other parameter values'][5]\n",
    "    outputurl = parameters['Other parameter values'][6]\n",
    "    headertitle = parameters['Other parameter values'][7]\n",
    "    headerid = parameters['Other parameter values'][8]\n",
    "    c = cm.Paired.colors\n",
    "    return (\n",
    "        filenames, targets, features, numknots, graphicsdirectory,\n",
    "        figurewidthheight, xaxislabel, yaxislabel, axistitle, c,\n",
    "        datetimeparser, outputurl, headertitle, headerid\n",
    "    )"
   ]
  },
  {
   "cell_type": "code",
   "execution_count": 5,
   "metadata": {},
   "outputs": [],
   "source": [
    "def page_break() -> None:\n",
    "    '''\n",
    "    Creates a page break for html output.\n",
    "    '''\n",
    "\n",
    "    print('<p style=\"page-break-after: always\">')\n",
    "    print('<p style=\"page-break-before: always\">')"
   ]
  },
  {
   "cell_type": "code",
   "execution_count": 6,
   "metadata": {},
   "outputs": [],
   "source": [
    "def summary(\n",
    "    elapsedtime: float,\n",
    "    filenames: List[str],\n",
    "    targets: List[str],\n",
    "    features: List[str],\n",
    "    numknots: List[int]\n",
    ") -> None:\n",
    "    '''\n",
    "    Print report summary.\n",
    "    '''\n",
    "\n",
    "    print('<h1>Report summary</h1>')\n",
    "    print(f'Execution time : {elapsedtime:.3f} s')\n",
    "    print(f'Files read     : {filenames}')\n",
    "    print(f'Targets        : {targets}')\n",
    "    print(f'Features       : {features}')\n",
    "    print(f'Number of knots: {numknots}')"
   ]
  },
  {
   "cell_type": "code",
   "execution_count": 7,
   "metadata": {},
   "outputs": [],
   "source": [
    "def set_up_graphics_directory(graphdir: str) -> None:\n",
    "    '''\n",
    "    Create an empty directory\n",
    "    '''\n",
    "    try:\n",
    "        rmtree(graphdir)\n",
    "    except Exception:\n",
    "        pass\n",
    "    Path(graphdir).mkdir(parents=True, exist_ok=True)"
   ]
  },
  {
   "cell_type": "code",
   "execution_count": 8,
   "metadata": {},
   "outputs": [],
   "source": [
    "def plot_scatter_line(\n",
    "        t: Tuple[pd.Series, pd.Series, int, int, str, str, str, int, bool]\n",
    ") -> None:\n",
    "    X, y, file, target, feature, numknots, dates = t\n",
    "    model = ds.natural_cubic_spline(\n",
    "        X, y, numberknots=numknots\n",
    "    )\n",
    "    if dates:\n",
    "        XX = X.astype('datetime64[ns]')\n",
    "    else:\n",
    "        XX = X\n",
    "    fig, ax = ds.plot_scatter_line_x_y1_y2(\n",
    "        X=XX,\n",
    "        y1=y,\n",
    "        y2=model.predict(X),\n",
    "        figuresize=figure_width_height,\n",
    "        labellegendy2=f'number knots = {numknots}'\n",
    "    )\n",
    "    ax.legend(frameon=False, loc='best')\n",
    "    ax.set_title(\n",
    "        f'{axis_title}\\n'\n",
    "        f'file: {file} '\n",
    "        f'column: {target}'\n",
    "    )\n",
    "    ax.set_xlabel(x_axis_label)\n",
    "    ax.set_ylabel(y_axis_label)\n",
    "    despine(ax)\n",
    "    ax.figure.savefig(\n",
    "        f'{graphics_directory}'\n",
    "        f'/spline_'\n",
    "        f'{file.strip(\".csv\")}_'\n",
    "        f'{target}_{feature}_'\n",
    "        f'{numknots}.svg',\n",
    "        format='svg'\n",
    "    )"
   ]
  },
  {
   "cell_type": "code",
   "execution_count": 9,
   "metadata": {},
   "outputs": [],
   "source": [
    "def despine(ax: axes.Axes) -> None:\n",
    "    '''\n",
    "    Remove the top and right spines of a graph.\n",
    "\n",
    "    There is only one x axis, on the bottom, and one y axis, on the left.\n",
    "    '''\n",
    "    for spine in 'right', 'top':\n",
    "        ax.spines[spine].set_visible(False)"
   ]
  },
  {
   "cell_type": "code",
   "execution_count": 10,
   "metadata": {},
   "outputs": [],
   "source": [
    "if __name__ == '__main__':\n",
    "    main()"
   ]
  },
  {
   "cell_type": "markdown",
   "metadata": {},
   "source": [
    "# References\n",
    "\n",
    "- [Drury, Matthew. Basis Expansions](https://github.com/madrury/basis-expansions)\n",
    "\n",
    "- [Leal, Lois Anne. Numerical Interpolation: Natural Cubic Spline](https://towardsdatascience.com/numerical-interpolation-natural-cubic-spline-52c1157b98ac)\n",
    "\n",
    "- [SAS/GRAPH SYMBOL Statement (INTERPOL=SM&lt;nn&gt;&lt;P&gt;&lt;S&gt;)](https://documentation.sas.com/?docsetId=graphref&docsetTarget=n0c0j84n1e2jz9n1bhkn41o3v0d6.htm&docsetVersion=9.4&locale=en#p115cutvcmx2dln1cdo96duwmxru)\n",
    "\n",
    "- [Wikipedia. Smoothing spline](https://en.wikipedia.org/wiki/Smoothing_spline)\n",
    "\n",
    "- [Wikipedia. Spline (mathematics)](https://en.wikipedia.org/wiki/Spline_(mathematics))"
   ]
  }
 ],
 "metadata": {
  "kernelspec": {
   "display_name": "Python 3",
   "language": "python",
   "name": "python3"
  },
  "language_info": {
   "codemirror_mode": {
    "name": "ipython",
    "version": 3
   },
   "file_extension": ".py",
   "mimetype": "text/x-python",
   "name": "python",
   "nbconvert_exporter": "python",
   "pygments_lexer": "ipython3",
   "version": "3.8.5"
  }
 },
 "nbformat": 4,
 "nbformat_minor": 2
}

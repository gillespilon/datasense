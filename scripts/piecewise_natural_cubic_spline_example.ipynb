{
 "cells": [
  {
   "cell_type": "markdown",
   "metadata": {},
   "source": [
    "# Piecewise natural cubic spline"
   ]
  },
  {
   "cell_type": "markdown",
   "metadata": {},
   "source": [
    "A piecewise natural cubic spline (cubic curves in the interior segments, linear in the exterior segments) is used to interpolate points to fit the data while smoothing out the noise. A large number of data are fitted with low-degree polynomials, to eliminate excessive oscillations and non-convergence.\n",
    "\n",
    "The graphs can be viewed with the view_spline_graphs.html file created."
   ]
  },
  {
   "cell_type": "code",
   "execution_count": 1,
   "metadata": {},
   "outputs": [],
   "source": [
    "from multiprocessing import Pool\n",
    "from typing import List, Tuple\n",
    "import time"
   ]
  },
  {
   "cell_type": "code",
   "execution_count": 2,
   "metadata": {},
   "outputs": [],
   "source": [
    "import datasense as ds\n",
    "import pandas as pd"
   ]
  },
  {
   "cell_type": "code",
   "execution_count": 3,
   "metadata": {},
   "outputs": [],
   "source": [
    "def main():\n",
    "    start_time = time.time()\n",
    "    global figsize, axis_title, x_axis_label, y_axis_label,\\\n",
    "        graphics_directory\n",
    "    file_names, targets, features, number_knots, graphics_directory,\\\n",
    "        figsize, x_axis_label, y_axis_label, axis_title,\\\n",
    "        date_parser, output_url, header_title, header_id = parameters()\n",
    "    ds.set_up_graphics_directory(graphics_directory)\n",
    "    original_stdout = ds.html_begin(\n",
    "        output_url=output_url,\n",
    "        header_title=header_title,\n",
    "        header_id=header_id\n",
    "    )\n",
    "    ds.page_break()\n",
    "    print('<pre style=\"white-space: pre-wrap;\">')\n",
    "    for file_name, target, feature in zip(file_names, targets, features):\n",
    "        data = ds.read_file(\n",
    "            file_name=file_name,\n",
    "            parse_dates=features\n",
    "        )\n",
    "        data[target] = data[target].fillna(data[target].mean())\n",
    "        dates = True\n",
    "        X = pd.to_numeric(data[feature])\n",
    "        y = data[target]\n",
    "        t = ((X, y, file_name, target, feature, knot, dates)\n",
    "             for knot in number_knots)\n",
    "        with Pool() as pool:\n",
    "            for _ in pool.imap_unordered(plot_scatter_line, t):\n",
    "                pass\n",
    "        for knot in number_knots:\n",
    "            print(\n",
    "                f'<p><img src=\"{graphics_directory}/'\n",
    "                f'spline_{file_name.strip(\".csv\")}_'\n",
    "                f'{target}_{feature}_{knot}.svg\"/></p>'\n",
    "            )\n",
    "    stop_time = time.time()\n",
    "    ds.page_break()\n",
    "    ds.report_summary(\n",
    "        start_time=start_time,\n",
    "        stop_time=stop_time,\n",
    "        read_file_names=file_names,\n",
    "        targets=targets,\n",
    "        features=features,\n",
    "        number_knots=number_knots\n",
    "    )\n",
    "    print('</pre>')\n",
    "    ds.html_end(\n",
    "        original_stdout=original_stdout,\n",
    "        output_url=output_url\n",
    "    )"
   ]
  },
  {
   "cell_type": "code",
   "execution_count": 4,
   "metadata": {},
   "outputs": [],
   "source": [
    "def parameters(\n",
    ") -> (\n",
    "    List[str],\n",
    "    List[str],\n",
    "    List[str],\n",
    "    List[int],\n",
    "    str,\n",
    "    Tuple[int, int],\n",
    "    str,\n",
    "    str,\n",
    "    str,\n",
    "    str,\n",
    "    str,\n",
    "    str,\n",
    "    str\n",
    "):\n",
    "    \"\"\"\n",
    "    Set parameters.\n",
    "    \"\"\"\n",
    "\n",
    "    parameters = ds.read_file(\n",
    "        file_name='piecewise_natural_cubic_spline_parameters.csv'\n",
    "    )\n",
    "    file_names = [x for x in parameters['File names'] if str(x) != 'nan']\n",
    "    targets = [x for x in parameters['Targets'] if str(x) != 'nan']\n",
    "    features = [x for x in parameters['Features'] if str(x) != 'nan']\n",
    "    number_knots = [int(x) for x in parameters['Number of knots']\n",
    "                    if str(x) != 'nan']\n",
    "    datetimeparser = parameters['Other parameter values'][0]\n",
    "    graphicsdirectory = parameters['Other parameter values'][1]\n",
    "    figurewidthheight = eval(parameters['Other parameter values'][2])\n",
    "    xaxislabel = parameters['Other parameter values'][3]\n",
    "    yaxislabel = parameters['Other parameter values'][4]\n",
    "    axistitle = parameters['Other parameter values'][5]\n",
    "    output_url = parameters['Other parameter values'][6]\n",
    "    header_title = parameters['Other parameter values'][7]\n",
    "    header_id = parameters['Other parameter values'][8]\n",
    "    return (\n",
    "        file_names, targets, features, number_knots, graphicsdirectory,\n",
    "        figurewidthheight, xaxislabel, yaxislabel, axistitle,\n",
    "        datetimeparser, output_url, header_title, header_id\n",
    "    )"
   ]
  },
  {
   "cell_type": "code",
   "execution_count": 5,
   "metadata": {},
   "outputs": [],
   "source": [
    "def plot_scatter_line(\n",
    "        t: Tuple[pd.Series, pd.Series, int, int, str, str, str, int, bool]\n",
    ") -> None:\n",
    "    X, y, file_name, target, feature, number_knots, dates = t\n",
    "    model = ds.natural_cubic_spline(\n",
    "        X=X,\n",
    "        y=y,\n",
    "        number_knots=number_knots\n",
    "    )\n",
    "    if dates:\n",
    "        XX = X.astype('datetime64[ns]')\n",
    "    else:\n",
    "        XX = X\n",
    "    fig, ax = ds.plot_scatter_line_x_y1_y2(\n",
    "        X=XX,\n",
    "        y1=y,\n",
    "        y2=model.predict(X),\n",
    "        figsize=figsize,\n",
    "        labellegendy2=f'number knots = {number_knots}'\n",
    "    )\n",
    "    ax.legend(frameon=False, loc='best')\n",
    "    ax.set_title(\n",
    "        f'{axis_title}\\n'\n",
    "        f'file: {file_name} '\n",
    "        f'column: {target}'\n",
    "    )\n",
    "    ax.set_xlabel(x_axis_label)\n",
    "    ax.set_ylabel(y_axis_label)\n",
    "    ds.despine(ax)\n",
    "    fig.savefig(\n",
    "        f'{graphics_directory}'\n",
    "        f'/spline_'\n",
    "        f'{file_name.strip(\".csv\")}_'\n",
    "        f'{target}_{feature}_'\n",
    "        f'{number_knots}.svg',\n",
    "        format='svg'\n",
    "    )"
   ]
  },
  {
   "cell_type": "code",
   "execution_count": 6,
   "metadata": {},
   "outputs": [],
   "source": [
    "if __name__ == '__main__':\n",
    "    main()"
   ]
  },
  {
   "cell_type": "markdown",
   "metadata": {},
   "source": [
    "# References\n",
    "\n",
    "- [Drury, Matthew. Basis Expansions](https://github.com/madrury/basis-expansions)\n",
    "\n",
    "- [Leal, Lois Anne. Numerical Interpolation: Natural Cubic Spline](https://towardsdatascience.com/numerical-interpolation-natural-cubic-spline-52c1157b98ac)\n",
    "\n",
    "- [SAS/GRAPH SYMBOL Statement (INTERPOL=SM&lt;nn&gt;&lt;P&gt;&lt;S&gt;)](https://documentation.sas.com/?docsetId=graphref&docsetTarget=n0c0j84n1e2jz9n1bhkn41o3v0d6.htm&docsetVersion=9.4&locale=en#p115cutvcmx2dln1cdo96duwmxru)\n",
    "\n",
    "- [Wikipedia. Smoothing spline](https://en.wikipedia.org/wiki/Smoothing_spline)\n",
    "\n",
    "- [Wikipedia. Spline (mathematics)](https://en.wikipedia.org/wiki/Spline_(mathematics))"
   ]
  }
 ],
 "metadata": {
  "kernelspec": {
   "display_name": "Python 3",
   "language": "python",
   "name": "python3"
  },
  "language_info": {
   "codemirror_mode": {
    "name": "ipython",
    "version": 3
   },
   "file_extension": ".py",
   "mimetype": "text/x-python",
   "name": "python",
   "nbconvert_exporter": "python",
   "pygments_lexer": "ipython3",
   "version": "3.8.6"
  }
 },
 "nbformat": 4,
 "nbformat_minor": 2
}

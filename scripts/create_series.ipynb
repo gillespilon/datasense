{
 "cells": [
  {
   "cell_type": "markdown",
   "metadata": {},
   "source": [
    "# Create a Pandas series.\n",
    "\n",
    "A series of type integer can contain np.nan if it's Int64 (nullable type),\n",
    "not int64.\n",
    "\n",
    "It's too early to switch to pd.NA for missing values."
   ]
  },
  {
   "cell_type": "code",
   "execution_count": 1,
   "metadata": {},
   "outputs": [],
   "source": [
    "import datasense as ds\n",
    "import pandas as pd\n",
    "import numpy as np"
   ]
  },
  {
   "cell_type": "code",
   "execution_count": 2,
   "metadata": {},
   "outputs": [],
   "source": [
    "def main():\n",
    "    output_url = 'create_series.html'\n",
    "    header_title = 'Create Pandas Series'\n",
    "    header_id = 'create-pandas-series'\n",
    "    original_stdout = ds.html_begin(\n",
    "        output_url=output_url,\n",
    "        header_title=header_title,\n",
    "        header_id=header_id\n",
    "    )\n",
    "    my_list_1 = [1, 2, np.nan, 4, 5]\n",
    "    print('my_list_1:')\n",
    "    print(my_list_1)\n",
    "    my_list_2 = [6.0, np.nan, 8.0, 9.0, 10.0]\n",
    "    print('my_list_2:')\n",
    "    print(my_list_2)\n",
    "    my_list_3 = ['a', 'b', 'c', '', 'e']\n",
    "    print('my_list_3:')\n",
    "    print(my_list_3)\n",
    "    my_index = [1, 2, 3, 4, 5]\n",
    "    s1 = pd.Series(data=my_list_1)\n",
    "    print('s1:')\n",
    "    print(s1)\n",
    "    s2 = pd.Series(\n",
    "        data=my_list_1,\n",
    "        name='A'\n",
    "    )\n",
    "    print('s2:')\n",
    "    print(s2)\n",
    "    s3 = pd.Series(\n",
    "        data=my_list_1,\n",
    "        index=my_index,\n",
    "        dtype='Int64',\n",
    "        name='A'\n",
    "    )\n",
    "    print('s3:')\n",
    "    print(s3)\n",
    "    s4 = pd.Series(\n",
    "        data=my_list_2,\n",
    "        index=my_index,\n",
    "        dtype='float64',\n",
    "        name='B'\n",
    "    )\n",
    "    print('s4:')\n",
    "    print(s4)\n",
    "    s5 = pd.Series(\n",
    "        data=my_list_3,\n",
    "        index=my_index,\n",
    "        dtype='str',\n",
    "        name='C'\n",
    "    )\n",
    "    print('s5:')\n",
    "    print(s5)\n",
    "    ds.html_end(\n",
    "        original_stdout=original_stdout,\n",
    "        output_url=output_url\n",
    "    )"
   ]
  },
  {
   "cell_type": "code",
   "execution_count": 3,
   "metadata": {},
   "outputs": [],
   "source": [
    "if __name__ == '__main__':\n",
    "    main()"
   ]
  }
 ],
 "metadata": {
  "kernelspec": {
   "display_name": "Python 3",
   "language": "python",
   "name": "python3"
  },
  "language_info": {
   "codemirror_mode": {
    "name": "ipython",
    "version": 3
   },
   "file_extension": ".py",
   "mimetype": "text/x-python",
   "name": "python",
   "nbconvert_exporter": "python",
   "pygments_lexer": "ipython3",
   "version": "3.8.6"
  }
 },
 "nbformat": 4,
 "nbformat_minor": 4
}
